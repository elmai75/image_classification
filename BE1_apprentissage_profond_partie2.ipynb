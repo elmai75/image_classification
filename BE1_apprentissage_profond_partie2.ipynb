{
  "cells": [
    {
      "cell_type": "code",
      "execution_count": null,
      "metadata": {
        "id": "bcj3Yli-4JfF"
      },
      "outputs": [],
      "source": [
        "#definition de la fonction unpickle\n",
        "def unpickle(file):\n",
        "    import pickle\n",
        "    with open(file, 'rb') as fo:\n",
        "        dict = pickle.load(fo, encoding='bytes')\n",
        "    return dict"
      ]
    },
    {
      "cell_type": "code",
      "execution_count": null,
      "metadata": {
        "id": "UJOCD69L4mSO"
      },
      "outputs": [],
      "source": [
        "file='C:/Users/elmai/Downloads/data/data_batch_1'"
      ]
    },
    {
      "cell_type": "code",
      "execution_count": null,
      "metadata": {
        "id": "D_VS1wL44znF"
      },
      "outputs": [],
      "source": [
        "data=unpickle(file)"
      ]
    },
    {
      "cell_type": "code",
      "execution_count": null,
      "metadata": {
        "id": "hNDIDEwB42VB"
      },
      "outputs": [],
      "source": [
        "#la definition de la fonction read_cifar_batch pour lire un seul batch\n",
        "import numpy as np\n",
        "def read_cifar_batch(file,k=0):\n",
        "  batch=unpickle(file)\n",
        "  if k==0:\n",
        "    return batch[b'data']\n",
        "  if k==1:\n",
        "    return np.array(batch[b'labels'])"
      ]
    },
    {
      "cell_type": "code",
      "execution_count": null,
      "metadata": {
        "id": "BfksRpSc5RFh"
      },
      "outputs": [],
      "source": [
        "#la defintion de la fonction split_dataset\n",
        "from numpy.random import PCG64\n",
        "import numpy as np\n",
        "from sklearn.model_selection import train_test_split\n",
        "def split_dataset(data,label,split,k=0):\n",
        "  data_train, data_test, labels_train, labels_test = train_test_split(data,label, test_size=split, random_state=42)\n",
        "  if k==0:\n",
        "    return data_train\n",
        "  if k==1:\n",
        "    return data_test\n",
        "  if k==2:\n",
        "    return labels_train\n",
        "  if k==3:\n",
        "    return labels_test"
      ]
    },
    {
      "cell_type": "code",
      "execution_count": null,
      "metadata": {
        "id": "I_DXLhex5UrR"
      },
      "outputs": [],
      "source": [
        "# spliter le première batch e data_train,data_test,labels_train et labels_test\n",
        "data_train=split_dataset(read_cifar_batch(file,0),read_cifar_batch(file,1),0.2,0)\n",
        "data_test=split_dataset(read_cifar_batch(file,0),read_cifar_batch(file,1),0.2,1)\n",
        "labels_train=split_dataset(read_cifar_batch(file,0),read_cifar_batch(file,1),0.2,2)\n",
        "labels_test=split_dataset(read_cifar_batch(file,0),read_cifar_batch(file,1),0.2,3)"
      ]
    },
    {
      "cell_type": "code",
      "execution_count": null,
      "metadata": {
        "colab": {
          "base_uri": "https://localhost:8080/"
        },
        "id": "xu9i7_lh5zBv",
        "outputId": "d02dbce7-3285-4fdd-95f1-ecc38639b7fb"
      },
      "outputs": [
        {
          "name": "stdout",
          "output_type": "stream",
          "text": [
            "0.118068599452887\n"
          ]
        }
      ],
      "source": [
        "import numpy as np\n",
        "\n",
        "N = 30  # number of input data\n",
        "d_in = 3  # input dimension\n",
        "d_h = 3  # number of neurons in the hidden layer\n",
        "d_out = 2  # output dimension (number of neurons of the output layer)\n",
        "\n",
        "# Random initialization of the network weights and biaises\n",
        "w1 = 2 * np.random.rand(d_in, d_h) - 1  # first layer weights\n",
        "b1 = np.zeros((1, d_h))  # first layer biaises\n",
        "w2 = 2 * np.random.rand(d_h, d_out) - 1  # second layer weights\n",
        "b2 = np.zeros((1, d_out))  # second layer biaises\n",
        "\n",
        "data = np.random.rand(N, d_in)  # create a random data\n",
        "targets = np.random.rand(N, d_out)  # create a random targets\n",
        "\n",
        "# Forward pass\n",
        "a0 = data # the data are the input of the first layer\n",
        "z1 = np.matmul(a0, w1) + b1  # input of the hidden layer\n",
        "a1 = 1 / (1 + np.exp(-z1))  # output of the hidden layer (sigmoid activation function)\n",
        "z2 = np.matmul(a1, w2) + b2  # input of the output layer\n",
        "a2 = 1 / (1 + np.exp(-z2))  # output of the output layer (sigmoid activation function)\n",
        "predictions = a2  # the predicted values are the outputs of the output layer\n",
        "\n",
        "# Compute loss (MSE)\n",
        "loss = np.mean(np.square(predictions - targets))\n",
        "print(loss)\n"
      ]
    },
    {
      "cell_type": "code",
      "execution_count": null,
      "metadata": {
        "colab": {
          "base_uri": "https://localhost:8080/"
        },
        "id": "QywM1LJG58bo",
        "outputId": "24d48e59-0f0d-46c0-c5c9-ffe2a7900056"
      },
      "outputs": [
        {
          "data": {
            "text/plain": [
              "(8000,)"
            ]
          },
          "execution_count": 13,
          "metadata": {},
          "output_type": "execute_result"
        }
      ],
      "source": [
        "labels_train.shape"
      ]
    },
    {
      "cell_type": "markdown",
      "metadata": {
        "id": "8AtVbBV16Nkr"
      },
      "source": [
        "Dans cette partie on va définir la fonction learn_once_mse"
      ]
    },
    {
      "cell_type": "code",
      "execution_count": null,
      "metadata": {
        "id": "nyo1WA_s6H4R"
      },
      "outputs": [],
      "source": [
        "def learn_once_mse(w1,b1,w2,b2,data,a1,a2,targets,lr=0.001,k=1):\n",
        "  \n",
        "  # Dans cette partie on va calculer les dérivées partielles \n",
        "\n",
        "  dc_a2=(a2-targets)*2/data.shape[0] # calcule de la dérivé du cout par rapport à a2 de dimension \n",
        "  dc_z2=dc_a2*a2*(1-a2) # calcule la dérivé du cout par rapport à z2\n",
        "  dc_w2=np.dot(a1.T,dc_z2)#calcule de la dérivé du cout par rapport à w2\n",
        "  mat=np.ones((1,data.shape[0]),dtype=float) \n",
        "  dc_b2=np.dot(mat,dc_z2) # calcule de dérivé du cout par rapport à b2\n",
        "  dc_a1=np.dot(dc_z2,w2.T)# calcule de la dérivé du cout par rapport à a1\n",
        "  dc_z1=dc_a1*a1*(1-a1)# calcule de la dérivé du cout par rapport à z1\n",
        "  dc_w1=np.dot(data.T,dc_z1)# calcule de la dérivé du cout par rapport à w1\n",
        "  dc_b1=np.dot(mat,dc_z1)#calcule de la dérivé du cout par rapport à b1\n",
        "  \n",
        "  \n",
        "  #la mise à jour des poids et des bias\n",
        "  w1=w1-lr*dc_w1\n",
        "  w2=w2-lr*dc_w2\n",
        "  b1=b1-lr*dc_b1\n",
        "  b2=b2-lr*dc_b2\n",
        "\n",
        "  # Forward pass\n",
        "  a0 = data # the data are the input of the first layer\n",
        "  z1 = np.matmul(a0, w1) + b1  # input of the hidden layer\n",
        "  a1 = 1 / (1 + np.exp(-z1))  # output of the hidden layer (sigmoid activation function)\n",
        "  z2 = np.matmul(a1, w2) + b2  # input of the output layer\n",
        "  a2 = 1 / (1 + np.exp(-z2))  # output of the output layer (sigmoid activation function)\n",
        "  predictions = a2  # the predicted values are the outputs of the output layer\n",
        "\n",
        "  # Compute loss (MSE)\n",
        "  loss = np.mean(np.square(predictions - targets))\n",
        "\n",
        "  # retourner la valeur souhaité selon la valeur de k\n",
        "  if k==1:\n",
        "    return w1\n",
        "  if k==2:\n",
        "    return w2\n",
        "  if k==3:\n",
        "    return b1\n",
        "  if k==4:\n",
        "    return b2\n",
        "  if k==5:\n",
        "    return loss"
      ]
    },
    {
      "cell_type": "code",
      "execution_count": null,
      "metadata": {
        "colab": {
          "base_uri": "https://localhost:8080/"
        },
        "id": "0X85D3eM6en3",
        "outputId": "b6d5f34b-9e21-4e50-e67d-cdf494687515"
      },
      "outputs": [
        {
          "data": {
            "text/plain": [
              "0.1180601493151672"
            ]
          },
          "execution_count": 15,
          "metadata": {},
          "output_type": "execute_result"
        }
      ],
      "source": [
        "#tester la fonction learn_once_mse qui va retourner le loss\n",
        "learn_once_mse(w1,b1,w2,b2,data,a1,a2,targets,lr=0.001,k=5)"
      ]
    },
    {
      "cell_type": "markdown",
      "metadata": {
        "id": "ityNnO4k64nm"
      },
      "source": [
        "La création de la focntion one_hot"
      ]
    },
    {
      "cell_type": "code",
      "execution_count": null,
      "metadata": {
        "id": "_OW0LvBt6zxl"
      },
      "outputs": [],
      "source": [
        "# la création de la fonction on_hot\n",
        "a = np.array([1, 2,0])\n",
        "\n",
        "def one_hot(a):\n",
        "  b = np.zeros((a.size, a.max() + 1))\n",
        "  b[np.arange(a.size), a] = 1\n",
        "\n",
        "  return b"
      ]
    },
    {
      "cell_type": "code",
      "execution_count": null,
      "metadata": {
        "colab": {
          "base_uri": "https://localhost:8080/"
        },
        "id": "95lCZjmg6-9U",
        "outputId": "40636545-51fc-4355-8a98-68afca8b0073"
      },
      "outputs": [
        {
          "data": {
            "text/plain": [
              "array([[0., 1., 0.],\n",
              "       [0., 0., 1.],\n",
              "       [1., 0., 0.]])"
            ]
          },
          "execution_count": 17,
          "metadata": {},
          "output_type": "execute_result"
        }
      ],
      "source": [
        "#testet la fonction one_hot\n",
        "one_hot(a)"
      ]
    },
    {
      "cell_type": "markdown",
      "metadata": {
        "id": "AX8u6fsb7V9x"
      },
      "source": [
        "On va définir la fonction learn_once_cross_entropy: pour définir cette fonction on va suivre les mêmes démarches de la fonction learn_once_mse , la seule différence sera au niveau de la dérive du cout par rapport à z2 qui est calculé par la formules suivantes dc_z2=a2-y"
      ]
    },
    {
      "cell_type": "code",
      "execution_count": null,
      "metadata": {
        "colab": {
          "base_uri": "https://localhost:8080/"
        },
        "id": "P8ZeO8gb7Gyu",
        "outputId": "332e2dcc-16f8-4d40-c4dc-2ea259c5a8e3"
      },
      "outputs": [
        {
          "name": "stderr",
          "output_type": "stream",
          "text": [
            "/usr/local/lib/python3.7/dist-packages/ipykernel_launcher.py:20: RuntimeWarning: overflow encountered in exp\n"
          ]
        }
      ],
      "source": [
        "import numpy as np\n",
        "\n",
        "N = data_train.shape[0]  # number of input data\n",
        "d_in = data_train.shape[1]  # input dimension\n",
        "d_h = 10 # number of neurons in the hidden layer\n",
        "d_out = 10  # output dimension (number of neurons of the output layer)\n",
        "\n",
        "# Random initialization of the network weights and biaises\n",
        "w1 = 2 * np.random.rand(d_in, d_h) - 1  # first layer weights\n",
        "b1 = np.zeros((1, d_h))  # first layer biaises\n",
        "w2 = 2 * np.random.rand(d_h, d_out) - 1  # second layer weights\n",
        "b2 = np.zeros((1, d_out))  # second layer biaises\n",
        "\n",
        "data = data_train  # create a random data\n",
        "targets = labels_train  # create a random targets\n",
        "\n",
        "# Forward pass\n",
        "a0 = data # the data are the input of the first layer\n",
        "z1 = np.matmul(a0, w1) + b1  # input of the hidden layer\n",
        "a1 = 1 / (1 + np.exp(-z1))  # output of the hidden layer (sigmoid activation function)\n",
        "z2 = np.matmul(a1, w2) + b2  # input of the output layer\n",
        "a2 = 1 / (1 + np.exp(-z2))  # output of the output layer (sigmoid activation function)\n",
        "predictions = a2  # the predicted values are the outputs of the output layer"
      ]
    },
    {
      "cell_type": "markdown",
      "metadata": {
        "id": "ulGRldf57lpm"
      },
      "source": [
        "Création de la fonction qui définie le loss de cross entropy"
      ]
    },
    {
      "cell_type": "code",
      "execution_count": null,
      "metadata": {
        "id": "X28YC4Uq7iVC"
      },
      "outputs": [],
      "source": [
        "#creation de la fonction loss entroy\n",
        "import math\n",
        "def loss_entropy(target,Y):\n",
        "   all_loss=[]\n",
        "   hot_trgt=one_hot(targets)\n",
        "   for i in range(hot_trgt.shape[0]):\n",
        "      loss=0\n",
        "      for j in range(hot_trgt.shape[1]):\n",
        "         loss-=hot_trgt[i][j]*math.log2(Y[i][j])\n",
        "      all_loss.append(loss)\n",
        "   return sum(all_loss)/hot_trgt.shape[0]"
      ]
    },
    {
      "cell_type": "markdown",
      "metadata": {
        "id": "8GplYXqQ7yaq"
      },
      "source": [
        "On va créer la focntion qui calcule l'accuracy qui prend 2 paramètres (la matrices targets qui contient les valeurs de la sortie souhaité et la matrice predicts qui contient les valeurs prédits)"
      ]
    },
    {
      "cell_type": "code",
      "execution_count": null,
      "metadata": {
        "id": "RPgTkQMZ7z1E"
      },
      "outputs": [],
      "source": [
        "# la création de la fonction accuracy\n",
        "def accuracy(tgr,pred):\n",
        " l=0\n",
        " for i in range(tgr.shape[0]):\n",
        "   if np.argmax(tgr[i])==np.argmax(pred[i]):\n",
        "      l+=1\n",
        " return (l/tgr.shape[0])"
      ]
    },
    {
      "cell_type": "markdown",
      "metadata": {
        "id": "Ys1eX7n18D-G"
      },
      "source": [
        "Définition de la fonction cross learn_once_cross_entropy"
      ]
    },
    {
      "cell_type": "code",
      "execution_count": null,
      "metadata": {
        "id": "382R2Xtj8FWq"
      },
      "outputs": [],
      "source": [
        "def learn_once_cross_entropy(w1,b1,w2,b2,a0,a1,a2,targets,lr=0.001,k=1):\n",
        "\n",
        "  dc_z2=a2-one_hot(np.array(targets)) # calcule le dérivé du cout par rapport à z2\n",
        "  dc_w2=np.dot(a1.T,dc_z2)#calcule de la dérivé du cout par rapport à w2\n",
        "  mat=np.ones((1,data.shape[0]),dtype=float) \n",
        "  dc_b2=np.dot(mat,dc_z2) # calcule de dérivé du cout par rapport à b2\n",
        "  dc_a1=np.dot(dc_z2,w2.T)# calcule de la dérivé du cout par rapport à a1\n",
        "  dc_z1=dc_a1*a1*(1-a1)# calcule de la dérivé du cout par rapport à z1\n",
        "  dc_w1=np.dot(a0.T,dc_z1)# calcule de la dérivé du cout par rapport à w1\n",
        "  dc_b1=np.dot(mat,dc_z1)#calcule de la dérivé du cout par rapport à b1\n",
        "  \n",
        "  \n",
        "  w1=w1-lr*dc_w1\n",
        "  w2=w2-lr*dc_w2\n",
        "  b1=b1-lr*dc_b1\n",
        "  b2=b2-lr*dc_b2\n",
        "\n",
        "  # Forward pass\n",
        "  a0 = data # the data are the input of the first layer\n",
        "  z1 = np.matmul(a0, w1) + b1  # input of the hidden layer\n",
        "  a1 = 1 / (1 + np.exp(-z1))  # output of the hidden layer (sigmoid activation function)\n",
        "  z2 = np.matmul(a1, w2) + b2  # input of the output layer\n",
        "  a2 = 1 / (1 + np.exp(-z2))  # output of the output layer (sigmoid activation function)\n",
        "  predictions = a2  # the predicted values are the outputs of the output layer\n",
        "  loss=loss_entropy(targets,a2)\n",
        "\n",
        "  # Compute loss (MSE)\n",
        "\n",
        "  # retourner la valeur souhaité selon la valeur de k\n",
        "  if k==1:\n",
        "    return w1\n",
        "  if k==2:\n",
        "    return w2\n",
        "  if k==3:\n",
        "    return b1\n",
        "  if k==4:\n",
        "    return b2\n",
        "  if k==5:\n",
        "    return loss"
      ]
    },
    {
      "cell_type": "markdown",
      "metadata": {
        "id": "C2gg6pWs8U30"
      },
      "source": [
        "On va définir la fonction la fonction train_mlp qui repète les même démarches de la fonction learn_once_cross_entropy avec un nombre d'itération bien définie et qui retourne un dictionnaire qui contient toutes les valeurs de w1,w2,b1,b2,loss,accuracy"
      ]
    },
    {
      "cell_type": "code",
      "execution_count": null,
      "metadata": {
        "id": "QFebWeMF8Rkm"
      },
      "outputs": [],
      "source": [
        "def train_mlp(w1,b1,w2,b2,data,a1,a2,targets,num_epoch,lr=0.1,k=1):\n",
        "  all_w2=[]\n",
        "  all_w1=[]\n",
        "  all_b1=[]\n",
        "  all_b2=[]\n",
        "  all_loss=[]\n",
        "  all_accuracy=[]\n",
        "  \n",
        "  for i in range(num_epoch):\n",
        "\n",
        "    dc_z2=a2-one_hot(np.array(targets)) # calcule le dérivé du cout par rapport à z2\n",
        "    dc_w2=np.dot(a1.T,dc_z2)#calcule de la dérivé du cout par rapport à w2\n",
        "    mat=np.ones((1,data.shape[0]),dtype=float) \n",
        "    dc_b2=np.dot(mat,dc_z2) # calcule de dérivé du cout par rapport à b2\n",
        "    dc_a1=np.dot(dc_z2,w2.T)# calcule de la dérivé du cout par rapport à a1\n",
        "    dc_z1=dc_a1*a1*(1-a1)# calcule de la dérivé du cout par rapport à z1\n",
        "    dc_w1=np.dot(data.T,dc_z1)# calcule de la dérivé du cout par rapport à w1\n",
        "    dc_b1=np.dot(mat,dc_z1)#calcule de la dérivé du cout par rapport à b1\n",
        "  \n",
        "  \n",
        "    w1=w1-lr*dc_w1\n",
        "    w2=w2-lr*dc_w2\n",
        "    b1=b1-lr*dc_b1\n",
        "    b2=b2-lr*dc_b2\n",
        "\n",
        "    #remplissage des listes des poids et des biais\n",
        "    all_w1.append(w1)\n",
        "    all_w2.append(w2)\n",
        "    all_b1.append(b1)\n",
        "    all_b2.append(b2)\n",
        "    \n",
        "\n",
        "    # Forward pass\n",
        "    a0 = data # the data are the input of the first layer\n",
        "    z1 = np.matmul(a0, w1) + b1  # input of the hidden layer\n",
        "    a1 = 1 / (1 + np.exp(-z1))  # output of the hidden layer (sigmoid activation function)\n",
        "    z2 = np.matmul(a1, w2) + b2  # input of the output layer\n",
        "    a2 = 1 / (1 + np.exp(-z2))  # output of the output layer (sigmoid activation function)\n",
        "    predictions = a2  # the predicted values are the outputs of the output layer\n",
        "    loss=loss_entropy(targets,predictions)\n",
        "    acc=accuracy(one_hot(targets),predictions)\n",
        "    \n",
        "    all_loss.append(loss)\n",
        "    all_accuracy.append(acc)\n",
        "  if k==1:\n",
        "    return all_w1\n",
        "  if k==2:\n",
        "    return all_w2\n",
        "  if k==3:\n",
        "    return all_b1\n",
        "  if k==4:\n",
        "    return all_b2\n",
        "  if k==5:\n",
        "    return all_loss\n",
        "  if k==6:\n",
        "    return all_accuracy"
      ]
    },
    {
      "cell_type": "markdown",
      "metadata": {
        "id": "xaLX1kWj8gq4"
      },
      "source": [
        "Dans cette partie on va essayer de tracer la variation de la fonction loss et accuracy en fonction des itérations en appelant la fonction train_mlp avec l'indication de la valeur de retour"
      ]
    },
    {
      "cell_type": "markdown",
      "metadata": {
        "id": "UMBHf0F48mz-"
      },
      "source": [
        "On va traser la variation de la fonction loss en fonction des itéraction"
      ]
    },
    {
      "cell_type": "code",
      "execution_count": null,
      "metadata": {
        "colab": {
          "base_uri": "https://localhost:8080/"
        },
        "id": "w0oDw4BL8iDB",
        "outputId": "0335f92c-18c9-4a8f-b3bd-fbbfee206d02"
      },
      "outputs": [
        {
          "name": "stderr",
          "output_type": "stream",
          "text": [
            "/usr/local/lib/python3.7/dist-packages/ipykernel_launcher.py:36: RuntimeWarning: overflow encountered in exp\n"
          ]
        }
      ],
      "source": [
        "all_loss=train_mlp(w1,b1,w2,b2,data,a1,a2,targets,100,lr=0.001,k=5)"
      ]
    },
    {
      "cell_type": "code",
      "execution_count": null,
      "metadata": {
        "colab": {
          "base_uri": "https://localhost:8080/",
          "height": 283
        },
        "id": "x0M7a87L8v3f",
        "outputId": "cd350d04-7e8b-43f7-ba45-5e395bcd3103"
      },
      "outputs": [
        {
          "data": {
            "text/plain": [
              "[<matplotlib.lines.Line2D at 0x7f380b2ad6d0>]"
            ]
          },
          "execution_count": 24,
          "metadata": {},
          "output_type": "execute_result"
        },
        {
          "data": {
            "image/png": "[encoded data removed]",
            "text/plain": [
              "<Figure size 432x288 with 1 Axes>"
            ]
          },
          "metadata": {
            "needs_background": "light"
          },
          "output_type": "display_data"
        }
      ],
      "source": [
        "import matplotlib.pyplot as plt\n",
        "plt.plot(all_loss)"
      ]
    },
    {
      "cell_type": "markdown",
      "metadata": {
        "id": "Gvi7znwf9VfX"
      },
      "source": [
        "On va traser la variation de la fonction accuracy en fonction des itéraction"
      ]
    },
    {
      "cell_type": "code",
      "execution_count": null,
      "metadata": {
        "colab": {
          "base_uri": "https://localhost:8080/",
          "height": 302
        },
        "id": "exYC5NGq9npc",
        "outputId": "f60dfa8c-7108-4844-c730-e2d8d389fbdf"
      },
      "outputs": [
        {
          "name": "stderr",
          "output_type": "stream",
          "text": [
            "/usr/local/lib/python3.7/dist-packages/ipykernel_launcher.py:36: RuntimeWarning: overflow encountered in exp\n"
          ]
        },
        {
          "data": {
            "text/plain": [
              "[<matplotlib.lines.Line2D at 0x7f37fc714c90>]"
            ]
          },
          "execution_count": 27,
          "metadata": {},
          "output_type": "execute_result"
        },
        {
          "data": {
            "image/png": "[encoded data removed]",
            "text/plain": [
              "<Figure size 432x288 with 1 Axes>"
            ]
          },
          "metadata": {
            "needs_background": "light"
          },
          "output_type": "display_data"
        }
      ],
      "source": [
        "all_accuracy=train_mlp(w1,b1,w2,b2,data,a1,a2,targets,100,lr=0.001,k=6)\n",
        "plt.plot(all_accuracy)"
      ]
    },
    {
      "cell_type": "markdown",
      "metadata": {
        "id": "pjK0JXOA-LIK"
      },
      "source": [
        "Q14:Création de la fonction test_mlp"
      ]
    },
    {
      "cell_type": "code",
      "execution_count": null,
      "metadata": {
        "id": "t5GHBdNk-M06"
      },
      "outputs": [],
      "source": [
        "def test_mlp(w1,w2,b1,b2,data_test,label_test):\n",
        "    a0 = data_test # the data are the input of the first layer\n",
        "    z1 = np.matmul(a0, w1) + b1  # input of the hidden layer\n",
        "    a1 = 1 / (1 + np.exp(-z1))  # output of the hidden layer (sigmoid activation function)\n",
        "    z2 = np.matmul(a1, w2) + b2  # input of the output layer\n",
        "    a2 = 1 / (1 + np.exp(-z2))  # output of the output layer (sigmoid activation function)\n",
        "    predictions = a2  # the predicted values are the outputs of the output layer\n",
        "    test_accuracy=accuracy(one_hot(label_test),a2) # Calculer l'accuracy \n",
        "    return test_accuracy"
      ]
    },
    {
      "cell_type": "markdown",
      "metadata": {
        "id": "dMCh7zsj-S1f"
      },
      "source": [
        "Q15 :Création de la fonction run_mlp_training"
      ]
    },
    {
      "cell_type": "code",
      "execution_count": null,
      "metadata": {
        "id": "864bkeTu-VSj"
      },
      "outputs": [],
      "source": [
        "def run_mlp_training(data_train, labels_train, data_test, labels_test,d_h,lr,num_epoch):\n",
        "\n",
        "  N = data_train.shape[0]  # number of input data\n",
        "  d_in = data_train.shape[1]  # input dimension\n",
        "  d_out = 10  # output dimension (number of neurons of the output layer)\n",
        "\n",
        "  # Random initialization of the network weights and biaises\n",
        "  w1 = 2 * np.random.rand(d_in, d_h) - 1  # first layer weights\n",
        "  b1 = np.zeros((1, d_h))  # first layer biaises\n",
        "  w2 = 2 * np.random.rand(d_h, d_out) - 1  # second layer weights\n",
        "  b2 = np.zeros((1, d_out))  # second layer biaises\n",
        "\n",
        "  data = data_train  # create a random data\n",
        "  targets = labels_train  # create a random targets\n",
        "\n",
        " \n",
        "\n",
        "\n",
        "  all_accuracy=[]\n",
        "  \n",
        "  for i in range(num_epoch):\n",
        "\n",
        "    # Forward pass\n",
        "    a0 = data # the data are the input of the first layer\n",
        "    z1 = np.matmul(a0, w1) + b1  # input of the hidden layer\n",
        "    a1 = 1 / (1 + np.exp(-z1))  # output of the hidden layer (sigmoid activation function)\n",
        "    z2 = np.matmul(a1, w2) + b2  # input of the output layer\n",
        "    a2 = 1 / (1 + np.exp(-z2))  # output of the output layer (sigmoid activation function)\n",
        "    predictions = a2  # the predicted values are the outputs of the output layer\n",
        "    loss=loss_entropy(targets,predictions)\n",
        "    acc=accuracy(one_hot(targets),predictions)\n",
        "\n",
        "\n",
        "\n",
        "    dc_z2=a2-one_hot(np.array(targets)) # calcule le dérivé du cout par rapport à z2\n",
        "    dc_w2=np.dot(a1.T,dc_z2)#calcule de la dérivé du cout par rapport à w2\n",
        "    mat=np.ones((1,data.shape[0]),dtype=float) \n",
        "    dc_b2=np.dot(mat,dc_z2) # calcule de dérivé du cout par rapport à b2\n",
        "    dc_a1=np.dot(dc_z2,w2.T)# calcule de la dérivé du cout par rapport à a1\n",
        "    dc_z1=dc_a1*a1*(1-a1)# calcule de la dérivé du cout par rapport à z1\n",
        "    dc_w1=np.dot(data.T,dc_z1)# calcule de la dérivé du cout par rapport à w1\n",
        "    dc_b1=np.dot(mat,dc_z1)#calcule de la dérivé du cout par rapport à b1\n",
        "  \n",
        "  \n",
        "    w1=w1-lr*dc_w1\n",
        "    w2=w2-lr*dc_w2\n",
        "    b1=b1-lr*dc_b1\n",
        "    b2=b2-lr*dc_b2\n",
        "\n",
        "\n",
        "    all_accuracy.append(acc)\n",
        "  # Forward pass\n",
        "  \n",
        "  z1 = np.matmul(data_test, w1) + b1  # input of the hidden layer\n",
        "  a1 = 1 / (1 + np.exp(-z1))  # output of the hidden layer (sigmoid activation function)\n",
        "  z2 = np.matmul(a1, w2) + b2  # input of the output layer\n",
        "  a2 = 1 / (1 + np.exp(-z2))  # output of the output layer (sigmoid activation function)\n",
        "  predictions = a2  # the predicted values are the outputs of the output layer\n",
        "  acc=accuracy(one_hot(targets),predictions)\n",
        "\n",
        "  print(all_accuracy,acc)"
      ]
    }
  ],
  "metadata": {
    "colab": {
      "collapsed_sections": [],
      "provenance": []
    },
    "kernelspec": {
      "display_name": "Python 3",
      "name": "python3"
    },
    "language_info": {
      "name": "python"
    }
  },
  "nbformat": 4,
  "nbformat_minor": 0
}
