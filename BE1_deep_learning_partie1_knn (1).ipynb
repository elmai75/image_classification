{
  "cells": [
    {
      "cell_type": "markdown",
      "source": [
        "la définition de la fonction unpickle qui prend le chemin du fichier et qui retourne le dictionnaire qui contient 4 clès"
      ],
      "metadata": {
        "id": "0dr4H4mcCdyX"
      },
      "id": "0dr4H4mcCdyX"
    },
    {
      "cell_type": "code",
      "source": [
        "#la définition de la fonction unpickle\n",
        "def unpickle(file):\n",
        "    import pickle\n",
        "    with open(file, 'rb') as fo:\n",
        "        dict = pickle.load(fo, encoding='bytes')\n",
        "    return dict"
      ],
      "metadata": {
        "id": "Q_gntDapCppR"
      },
      "id": "Q_gntDapCppR",
      "execution_count": null,
      "outputs": []
    },
    {
      "cell_type": "code",
      "source": [
        "file='C:/Users/elmai/Downloads/data/data_batch_1'"
      ],
      "metadata": {
        "id": "trIInm8-Cwl_"
      },
      "id": "trIInm8-Cwl_",
      "execution_count": null,
      "outputs": []
    },
    {
      "cell_type": "code",
      "source": [
        "data=unpickle(file)"
      ],
      "metadata": {
        "id": "5UdFtuFyC2pI"
      },
      "id": "5UdFtuFyC2pI",
      "execution_count": null,
      "outputs": []
    },
    {
      "cell_type": "code",
      "source": [
        "#affichages des clé du dictionnaire\n",
        "data.keys()"
      ],
      "metadata": {
        "colab": {
          "base_uri": "https://localhost:8080/"
        },
        "id": "yYqX9R7NDB3E",
        "outputId": "4d315b99-0b73-4db2-c496-0c7f9b7ebcee"
      },
      "id": "yYqX9R7NDB3E",
      "execution_count": null,
      "outputs": [
        {
          "output_type": "execute_result",
          "data": {
            "text/plain": [
              "dict_keys([b'batch_label', b'labels', b'data', b'filenames'])"
            ]
          },
          "metadata": {},
          "execution_count": 4
        }
      ]
    },
    {
      "cell_type": "code",
      "source": [
        "data[b'data']"
      ],
      "metadata": {
        "colab": {
          "base_uri": "https://localhost:8080/"
        },
        "id": "pJYcmwlfDGgg",
        "outputId": "c09f27a0-aac8-4219-94bb-a27ce4a34bf6"
      },
      "id": "pJYcmwlfDGgg",
      "execution_count": null,
      "outputs": [
        {
          "output_type": "execute_result",
          "data": {
            "text/plain": [
              "array([[ 59,  43,  50, ..., 140,  84,  72],\n",
              "       [154, 126, 105, ..., 139, 142, 144],\n",
              "       [255, 253, 253, ...,  83,  83,  84],\n",
              "       ...,\n",
              "       [ 71,  60,  74, ...,  68,  69,  68],\n",
              "       [250, 254, 211, ..., 215, 255, 254],\n",
              "       [ 62,  61,  60, ..., 130, 130, 131]], dtype=uint8)"
            ]
          },
          "metadata": {},
          "execution_count": 5
        }
      ]
    },
    {
      "cell_type": "code",
      "source": [
        "import numpy as np\n",
        "#la definition de la fonction read_cifar_batch pour lire un seul batch\n",
        "def read_cifar_batch(file,k=0):\n",
        "  batch=unpickle(file)\n",
        "  if k==0:\n",
        "    return batch[b'data']\n",
        "  if k==1:\n",
        "    return np.array(batch[b'labels'])"
      ],
      "metadata": {
        "id": "isYm7kmhDH4I"
      },
      "id": "isYm7kmhDH4I",
      "execution_count": null,
      "outputs": []
    },
    {
      "cell_type": "code",
      "source": [
        "#la définition de la fonction read_cifar qui va lire toutes les data_batch et le test_batch\n",
        "from os import walk\n",
        "\n",
        "def read_cifar(path,k=0):\n",
        "  filenames = next(walk(path), (None, None, []))[2]\n",
        "  p1=path+'/'+filenames[0]\n",
        "  p2=path+'/'+filenames[1]\n",
        "  p3=path+'/'+filenames[2]\n",
        "  p4=path+'/'+filenames[3]\n",
        "  p5=path+'/'+filenames[4]\n",
        "  p6=path+'/'+filenames[5]\n",
        "\n",
        "  data1=read_cifar_batch(p1,k=0)\n",
        "  data2=read_cifar_batch(p2,k=0)\n",
        "  data3=read_cifar_batch(p3,k=0)\n",
        "  data4=read_cifar_batch(p4,k=0)\n",
        "  data5=read_cifar_batch(p5,k=0)\n",
        "  data6=read_cifar_batch(p6,k=0)\n",
        "  concate1=np.concatenate((data1,data2,data3))\n",
        "  concate2=np.concatenate((data4,data5,data6))\n",
        "  concate=np.concatenate((concate1,concate2))\n",
        "\n",
        "  label1=read_cifar_batch(p1,k=1)\n",
        "  label2=read_cifar_batch(p2,k=1)\n",
        "  label3=read_cifar_batch(p3,k=1)\n",
        "  label4=read_cifar_batch(p4,k=1)\n",
        "  label5=read_cifar_batch(p5,k=1)\n",
        "  label6=read_cifar_batch(p6,k=1)\n",
        "  lb1=np.concatenate((label1,label2,label3))\n",
        "  lb2=np.concatenate((label4,label5,label6))\n",
        "  lb=np.concatenate((lb1,lb2))\n",
        "\n",
        "  if k==0:\n",
        "    return concate\n",
        "  if k==1:\n",
        "    return lb"
      ],
      "metadata": {
        "id": "MWW5-nzDDctJ"
      },
      "id": "MWW5-nzDDctJ",
      "execution_count": null,
      "outputs": []
    },
    {
      "cell_type": "code",
      "source": [
        "#la defintion de la fonction split_dataset\n",
        "from numpy.random import PCG64\n",
        "import numpy as np\n",
        "from sklearn.model_selection import train_test_split\n",
        "def split_dataset(data,label,split,k=0):\n",
        "  data_train, data_test, labels_train, labels_test = train_test_split(data,label, test_size=split, random_state=42)\n",
        "  if k==0:\n",
        "    return data_train\n",
        "  if k==1:\n",
        "    return data_test\n",
        "  if k==2:\n",
        "    return labels_train\n",
        "  if k==3:\n",
        "    return labels_test\n"
      ],
      "metadata": {
        "id": "v57pEwTADiLe"
      },
      "id": "v57pEwTADiLe",
      "execution_count": null,
      "outputs": []
    },
    {
      "cell_type": "markdown",
      "source": [
        "On va tester la fonction split_dataset sur une seule batch avec la repartirion de la partie d'entrainement et de test en 80% et 20%"
      ],
      "metadata": {
        "id": "mrV_fLiZDnik"
      },
      "id": "mrV_fLiZDnik"
    },
    {
      "cell_type": "code",
      "source": [
        "# on va appliquer la fonction split sur une seule batch\n",
        "data_train_batch=split_dataset(read_cifar_batch(file,0),read_cifar_batch(file,1),0.2,0)\n",
        "data_test_batch=split_dataset(read_cifar_batch(file,0),read_cifar_batch(file,1),0.2,1)\n",
        "labels_train_batch=split_dataset(read_cifar_batch(file,0),read_cifar_batch(file,1),0.2,2)\n",
        "labels_test_batch=split_dataset(read_cifar_batch(file,0),read_cifar_batch(file,1),0.2,3)"
      ],
      "metadata": {
        "id": "3fwSN3HpDoV9"
      },
      "id": "3fwSN3HpDoV9",
      "execution_count": null,
      "outputs": []
    },
    {
      "cell_type": "markdown",
      "source": [
        "la verification des dimension de la data_test et data_train"
      ],
      "metadata": {
        "id": "ehZLtIfMDq9J"
      },
      "id": "ehZLtIfMDq9J"
    },
    {
      "cell_type": "code",
      "source": [
        "x,y=data_test_batch.shape,data_train_batch.shape\n",
        "x,y"
      ],
      "metadata": {
        "colab": {
          "base_uri": "https://localhost:8080/"
        },
        "id": "uv6pCtBaDu1X",
        "outputId": "19811c1a-fa8c-4ca6-cdfd-54a61f4d6857"
      },
      "id": "uv6pCtBaDu1X",
      "execution_count": null,
      "outputs": [
        {
          "output_type": "execute_result",
          "data": {
            "text/plain": [
              "((2000, 3072), (8000, 3072))"
            ]
          },
          "metadata": {},
          "execution_count": 13
        }
      ]
    },
    {
      "cell_type": "markdown",
      "source": [
        "Mainteneant on va appliquer la fonction split_dataset sur tout le data_set en appelant la methode read_ciraf avec une répartition de 10% 90%"
      ],
      "metadata": {
        "id": "QlukVB_CECwB"
      },
      "id": "QlukVB_CECwB"
    },
    {
      "cell_type": "code",
      "source": [
        "path='C:/Users/elmai/Downloads/data'\n",
        "data_train=split_dataset(read_cifar(path,0),read_cifar(path,1),0.1,0)\n",
        "data_test=split_dataset(read_cifar(path,0),read_cifar(path,1),0.1,1)\n",
        "labels_train=split_dataset(read_cifar(path,0),read_cifar(path,1),0.1,2)\n",
        "labels_test=split_dataset(read_cifar(path,0),read_cifar(path,1),0.1,3)"
      ],
      "metadata": {
        "id": "1QaUE6ebED5Z"
      },
      "id": "1QaUE6ebED5Z",
      "execution_count": null,
      "outputs": []
    },
    {
      "cell_type": "markdown",
      "source": [
        "la verification des dimension de la data_test et data_train"
      ],
      "metadata": {
        "id": "alwFj4jFENLT"
      },
      "id": "alwFj4jFENLT"
    },
    {
      "cell_type": "code",
      "source": [
        "x,y=data_test.shape,data_train.shape\n",
        "print(x,y)"
      ],
      "metadata": {
        "colab": {
          "base_uri": "https://localhost:8080/"
        },
        "id": "78VPpPoZEN5s",
        "outputId": "60b20499-ee29-4de2-c530-0382025dc5f1"
      },
      "id": "78VPpPoZEN5s",
      "execution_count": null,
      "outputs": [
        {
          "output_type": "stream",
          "name": "stdout",
          "text": [
            "(6000, 3072) (54000, 3072)\n"
          ]
        }
      ]
    },
    {
      "cell_type": "markdown",
      "source": [
        "Dans cette partie on va définir la fonction distance matricielle"
      ],
      "metadata": {
        "id": "oox_Cy8LEU2Z"
      },
      "id": "oox_Cy8LEU2Z"
    },
    {
      "cell_type": "code",
      "source": [
        "# Premièrment on va définir la focntion dist_matrix_batch qui calcule juste la distance entre 2 vecteur\n",
        "def dist_matrix_batch(a,b):\n",
        "  return np.dot(a,a.transpose())+np.dot(b,b.transpose())-2*np.dot(a,b.transpose())"
      ],
      "metadata": {
        "id": "_zWtaChREV1X"
      },
      "id": "_zWtaChREV1X",
      "execution_count": null,
      "outputs": []
    },
    {
      "cell_type": "markdown",
      "source": [
        "la fonction dist_matrix calcule la distance matricielle"
      ],
      "metadata": {
        "id": "JqGbrxv3Ebse"
      },
      "id": "JqGbrxv3Ebse"
    },
    {
      "cell_type": "code",
      "source": [
        "from scipy.optimize.slsqp import concatenate\n",
        "def dist_matrix(data_train,data_test):\n",
        "  concate=dist_matrix_batch(data_train[:data_test.shape[0]],data_test)\n",
        "  l=int(data_train.shape[0]/data_test.shape[0])\n",
        "  for i in range(1,l):\n",
        "    m=dist_matrix_batch(data_train[data_test.shape[0]*i:data_test.shape[0]*(i+1)],data_test)\n",
        "    concate=np.concatenate((concate,m),axis=1)\n",
        "  return concate"
      ],
      "metadata": {
        "id": "jITK3aN0Ed2V"
      },
      "id": "jITK3aN0Ed2V",
      "execution_count": null,
      "outputs": []
    },
    {
      "cell_type": "markdown",
      "source": [
        "Le précedent algorithme de calcule de la distance matricielle necessite un temps d'exécution très lent sur toute le data_set qui peut durer plusieurs heures, c'est pour cela j'ai choisie de l'appliquer sur un seule batch"
      ],
      "metadata": {
        "id": "FDLzkXSaEt-Z"
      },
      "id": "FDLzkXSaEt-Z"
    },
    {
      "cell_type": "code",
      "source": [
        "l=dist_matrix(data_train_batch,data_test_batch)\n"
      ],
      "metadata": {
        "id": "zmkAIgw2Eu_f"
      },
      "id": "zmkAIgw2Eu_f",
      "execution_count": null,
      "outputs": []
    },
    {
      "cell_type": "code",
      "source": [
        "l.shape"
      ],
      "metadata": {
        "colab": {
          "base_uri": "https://localhost:8080/"
        },
        "id": "AvpGIJTlE0-n",
        "outputId": "baebb9a6-2c55-47f3-e382-0333543785b7"
      },
      "id": "AvpGIJTlE0-n",
      "execution_count": null,
      "outputs": [
        {
          "output_type": "execute_result",
          "data": {
            "text/plain": [
              "(2000, 8000)"
            ]
          },
          "metadata": {},
          "execution_count": 19
        }
      ]
    },
    {
      "cell_type": "markdown",
      "source": [
        "On va définir la fonction most_frequent qui va retourner l'élement le plus fréquenté dans une liste , que l'on va utiliser oar suite pour prédir la classe associé à un élément dans un nuage de k point."
      ],
      "metadata": {
        "id": "ff7ddnhKE_cN"
      },
      "id": "ff7ddnhKE_cN"
    },
    {
      "cell_type": "code",
      "source": [
        "def most_frequent(List):\n",
        "    counter = 0\n",
        "    num = List[0]\n",
        "     \n",
        "    for i in List:\n",
        "        curr_frequency = List.count(i)\n",
        "        if(curr_frequency> counter):\n",
        "            counter = curr_frequency\n",
        "            num = i\n",
        " \n",
        "    return num"
      ],
      "metadata": {
        "id": "_axhrVy9FAmg"
      },
      "id": "_axhrVy9FAmg",
      "execution_count": null,
      "outputs": []
    },
    {
      "cell_type": "markdown",
      "source": [
        "Dans cette etape on va créer la fonction predict-knn qui va retourner les labels du test set"
      ],
      "metadata": {
        "id": "7DiTFC6QFHkI"
      },
      "id": "7DiTFC6QFHkI"
    },
    {
      "cell_type": "code",
      "source": [
        "def knn_predict(dists,label_train,k):\n",
        "  pred=[]\n",
        "  for i in range(dists.shape[0]):\n",
        "\n",
        "    m=sorted(range(len(dists[i,:])), key = lambda sub: dists[i,:][sub])[:k]\n",
        "    pred.append(most_frequent(list(label_train[m])))\n",
        "  return pred"
      ],
      "metadata": {
        "id": "o-WeeEIMFIwy"
      },
      "id": "o-WeeEIMFIwy",
      "execution_count": null,
      "outputs": []
    },
    {
      "cell_type": "markdown",
      "source": [
        "On va calculer les valeurs prédites du data_test à l'aide de la fonction knn_predict pour un seul batch et avec une valeur de k=10"
      ],
      "metadata": {
        "id": "JCthxgvLFTxk"
      },
      "id": "JCthxgvLFTxk"
    },
    {
      "cell_type": "code",
      "source": [
        "valeur_predites=knn_predict(l,labels_train_batch,10)"
      ],
      "metadata": {
        "id": "UpZp96tTFU7r"
      },
      "id": "UpZp96tTFU7r",
      "execution_count": null,
      "outputs": []
    },
    {
      "cell_type": "code",
      "source": [
        "len(valeur_predites)"
      ],
      "metadata": {
        "colab": {
          "base_uri": "https://localhost:8080/"
        },
        "id": "s0Ach2VCFcag",
        "outputId": "42c88280-3f98-4fda-be0c-d279e16e98c8"
      },
      "id": "s0Ach2VCFcag",
      "execution_count": null,
      "outputs": [
        {
          "output_type": "execute_result",
          "data": {
            "text/plain": [
              "2000"
            ]
          },
          "metadata": {},
          "execution_count": 23
        }
      ]
    },
    {
      "cell_type": "code",
      "source": [
        "#affichage des valeurs prédites\n",
        "valeur_predites"
      ],
      "metadata": {
        "colab": {
          "base_uri": "https://localhost:8080/"
        },
        "id": "oQ3NslPHFdvw",
        "outputId": "c51437e5-2006-42d8-aeea-4c662b683111"
      },
      "id": "oQ3NslPHFdvw",
      "execution_count": null,
      "outputs": [
        {
          "output_type": "execute_result",
          "data": {
            "text/plain": [
              "[7,\n",
              " 2,\n",
              " 8,\n",
              " 8,\n",
              " 0,\n",
              " 2,\n",
              " 5,\n",
              " 5,\n",
              " 2,\n",
              " 8,\n",
              " 0,\n",
              " 3,\n",
              " 6,\n",
              " 8,\n",
              " 6,\n",
              " 8,\n",
              " 8,\n",
              " 6,\n",
              " 6,\n",
              " 9,\n",
              " 5,\n",
              " 5,\n",
              " 8,\n",
              " 2,\n",
              " 1,\n",
              " 4,\n",
              " 8,\n",
              " 0,\n",
              " 3,\n",
              " 6,\n",
              " 5,\n",
              " 5,\n",
              " 7,\n",
              " 4,\n",
              " 7,\n",
              " 6,\n",
              " 4,\n",
              " 0,\n",
              " 2,\n",
              " 2,\n",
              " 4,\n",
              " 2,\n",
              " 2,\n",
              " 8,\n",
              " 6,\n",
              " 1,\n",
              " 3,\n",
              " 2,\n",
              " 8,\n",
              " 5,\n",
              " 0,\n",
              " 8,\n",
              " 4,\n",
              " 0,\n",
              " 6,\n",
              " 5,\n",
              " 3,\n",
              " 7,\n",
              " 9,\n",
              " 9,\n",
              " 5,\n",
              " 7,\n",
              " 4,\n",
              " 5,\n",
              " 4,\n",
              " 2,\n",
              " 2,\n",
              " 5,\n",
              " 1,\n",
              " 6,\n",
              " 8,\n",
              " 6,\n",
              " 4,\n",
              " 1,\n",
              " 3,\n",
              " 9,\n",
              " 2,\n",
              " 4,\n",
              " 6,\n",
              " 4,\n",
              " 3,\n",
              " 2,\n",
              " 9,\n",
              " 9,\n",
              " 1,\n",
              " 9,\n",
              " 2,\n",
              " 5,\n",
              " 5,\n",
              " 4,\n",
              " 2,\n",
              " 4,\n",
              " 4,\n",
              " 5,\n",
              " 6,\n",
              " 5,\n",
              " 9,\n",
              " 8,\n",
              " 8,\n",
              " 9,\n",
              " 8,\n",
              " 5,\n",
              " 0,\n",
              " 1,\n",
              " 5,\n",
              " 7,\n",
              " 5,\n",
              " 5,\n",
              " 1,\n",
              " 3,\n",
              " 4,\n",
              " 5,\n",
              " 0,\n",
              " 6,\n",
              " 0,\n",
              " 9,\n",
              " 2,\n",
              " 1,\n",
              " 0,\n",
              " 5,\n",
              " 1,\n",
              " 2,\n",
              " 0,\n",
              " 1,\n",
              " 1,\n",
              " 2,\n",
              " 4,\n",
              " 1,\n",
              " 5,\n",
              " 8,\n",
              " 7,\n",
              " 9,\n",
              " 0,\n",
              " 9,\n",
              " 0,\n",
              " 0,\n",
              " 7,\n",
              " 4,\n",
              " 9,\n",
              " 3,\n",
              " 9,\n",
              " 2,\n",
              " 3,\n",
              " 8,\n",
              " 3,\n",
              " 7,\n",
              " 0,\n",
              " 1,\n",
              " 0,\n",
              " 9,\n",
              " 9,\n",
              " 4,\n",
              " 8,\n",
              " 6,\n",
              " 5,\n",
              " 5,\n",
              " 4,\n",
              " 2,\n",
              " 2,\n",
              " 4,\n",
              " 7,\n",
              " 2,\n",
              " 8,\n",
              " 0,\n",
              " 0,\n",
              " 6,\n",
              " 9,\n",
              " 1,\n",
              " 3,\n",
              " 3,\n",
              " 5,\n",
              " 0,\n",
              " 8,\n",
              " 0,\n",
              " 4,\n",
              " 0,\n",
              " 2,\n",
              " 6,\n",
              " 3,\n",
              " 2,\n",
              " 1,\n",
              " 8,\n",
              " 7,\n",
              " 0,\n",
              " 6,\n",
              " 4,\n",
              " 2,\n",
              " 1,\n",
              " 3,\n",
              " 0,\n",
              " 1,\n",
              " 2,\n",
              " 7,\n",
              " 4,\n",
              " 0,\n",
              " 0,\n",
              " 2,\n",
              " 2,\n",
              " 8,\n",
              " 7,\n",
              " 5,\n",
              " 1,\n",
              " 4,\n",
              " 3,\n",
              " 4,\n",
              " 9,\n",
              " 7,\n",
              " 5,\n",
              " 9,\n",
              " 4,\n",
              " 8,\n",
              " 2,\n",
              " 2,\n",
              " 9,\n",
              " 8,\n",
              " 2,\n",
              " 2,\n",
              " 5,\n",
              " 1,\n",
              " 0,\n",
              " 6,\n",
              " 6,\n",
              " 1,\n",
              " 5,\n",
              " 0,\n",
              " 4,\n",
              " 2,\n",
              " 9,\n",
              " 2,\n",
              " 9,\n",
              " 9,\n",
              " 0,\n",
              " 3,\n",
              " 3,\n",
              " 8,\n",
              " 4,\n",
              " 7,\n",
              " 7,\n",
              " 3,\n",
              " 9,\n",
              " 3,\n",
              " 5,\n",
              " 3,\n",
              " 0,\n",
              " 6,\n",
              " 6,\n",
              " 6,\n",
              " 0,\n",
              " 0,\n",
              " 0,\n",
              " 5,\n",
              " 8,\n",
              " 6,\n",
              " 3,\n",
              " 6,\n",
              " 8,\n",
              " 3,\n",
              " 5,\n",
              " 1,\n",
              " 6,\n",
              " 8,\n",
              " 5,\n",
              " 2,\n",
              " 6,\n",
              " 3,\n",
              " 6,\n",
              " 9,\n",
              " 5,\n",
              " 2,\n",
              " 1,\n",
              " 4,\n",
              " 0,\n",
              " 3,\n",
              " 8,\n",
              " 8,\n",
              " 7,\n",
              " 9,\n",
              " 9,\n",
              " 0,\n",
              " 8,\n",
              " 2,\n",
              " 3,\n",
              " 3,\n",
              " 9,\n",
              " 3,\n",
              " 6,\n",
              " 6,\n",
              " 7,\n",
              " 3,\n",
              " 4,\n",
              " 3,\n",
              " 5,\n",
              " 7,\n",
              " 2,\n",
              " 6,\n",
              " 5,\n",
              " 3,\n",
              " 6,\n",
              " 3,\n",
              " 1,\n",
              " 4,\n",
              " 1,\n",
              " 7,\n",
              " 0,\n",
              " 2,\n",
              " 1,\n",
              " 4,\n",
              " 1,\n",
              " 1,\n",
              " 2,\n",
              " 6,\n",
              " 6,\n",
              " 0,\n",
              " 9,\n",
              " 9,\n",
              " 8,\n",
              " 3,\n",
              " 0,\n",
              " 2,\n",
              " 4,\n",
              " 2,\n",
              " 9,\n",
              " 8,\n",
              " 2,\n",
              " 2,\n",
              " 1,\n",
              " 6,\n",
              " 8,\n",
              " 4,\n",
              " 6,\n",
              " 1,\n",
              " 4,\n",
              " 7,\n",
              " 3,\n",
              " 8,\n",
              " 4,\n",
              " 8,\n",
              " 6,\n",
              " 8,\n",
              " 9,\n",
              " 4,\n",
              " 2,\n",
              " 7,\n",
              " 9,\n",
              " 2,\n",
              " 0,\n",
              " 3,\n",
              " 9,\n",
              " 7,\n",
              " 9,\n",
              " 9,\n",
              " 7,\n",
              " 5,\n",
              " 8,\n",
              " 6,\n",
              " 1,\n",
              " 8,\n",
              " 5,\n",
              " 9,\n",
              " 6,\n",
              " 2,\n",
              " 1,\n",
              " 4,\n",
              " 7,\n",
              " 4,\n",
              " 5,\n",
              " 0,\n",
              " 9,\n",
              " 0,\n",
              " 4,\n",
              " 5,\n",
              " 2,\n",
              " 4,\n",
              " 2,\n",
              " 6,\n",
              " 0,\n",
              " 9,\n",
              " 6,\n",
              " 4,\n",
              " 9,\n",
              " 6,\n",
              " 0,\n",
              " 2,\n",
              " 2,\n",
              " 5,\n",
              " 2,\n",
              " 7,\n",
              " 8,\n",
              " 1,\n",
              " 7,\n",
              " 3,\n",
              " 4,\n",
              " 3,\n",
              " 5,\n",
              " 0,\n",
              " 3,\n",
              " 7,\n",
              " 2,\n",
              " 1,\n",
              " 1,\n",
              " 7,\n",
              " 4,\n",
              " 5,\n",
              " 3,\n",
              " 7,\n",
              " 5,\n",
              " 4,\n",
              " 5,\n",
              " 4,\n",
              " 7,\n",
              " 5,\n",
              " 3,\n",
              " 9,\n",
              " 1,\n",
              " 9,\n",
              " 3,\n",
              " 0,\n",
              " 9,\n",
              " 5,\n",
              " 3,\n",
              " 9,\n",
              " 8,\n",
              " 9,\n",
              " 9,\n",
              " 0,\n",
              " 4,\n",
              " 4,\n",
              " 0,\n",
              " 6,\n",
              " 0,\n",
              " 9,\n",
              " 4,\n",
              " 1,\n",
              " 2,\n",
              " 1,\n",
              " 0,\n",
              " 2,\n",
              " 9,\n",
              " 8,\n",
              " 7,\n",
              " 2,\n",
              " 2,\n",
              " 3,\n",
              " 5,\n",
              " 2,\n",
              " 7,\n",
              " 2,\n",
              " 0,\n",
              " 2,\n",
              " 4,\n",
              " 2,\n",
              " 3,\n",
              " 4,\n",
              " 8,\n",
              " 7,\n",
              " 7,\n",
              " 0,\n",
              " 3,\n",
              " 4,\n",
              " 4,\n",
              " 8,\n",
              " 6,\n",
              " 8,\n",
              " 4,\n",
              " 3,\n",
              " 1,\n",
              " 9,\n",
              " 7,\n",
              " 5,\n",
              " 3,\n",
              " 7,\n",
              " 2,\n",
              " 8,\n",
              " 6,\n",
              " 4,\n",
              " 9,\n",
              " 2,\n",
              " 8,\n",
              " 1,\n",
              " 2,\n",
              " 6,\n",
              " 9,\n",
              " 3,\n",
              " 2,\n",
              " 2,\n",
              " 8,\n",
              " 6,\n",
              " 9,\n",
              " 4,\n",
              " 2,\n",
              " 3,\n",
              " 8,\n",
              " 2,\n",
              " 0,\n",
              " 8,\n",
              " 9,\n",
              " 9,\n",
              " 4,\n",
              " 8,\n",
              " 5,\n",
              " 9,\n",
              " 6,\n",
              " 6,\n",
              " 6,\n",
              " 7,\n",
              " 1,\n",
              " 3,\n",
              " 0,\n",
              " 3,\n",
              " 7,\n",
              " 5,\n",
              " 5,\n",
              " 4,\n",
              " 1,\n",
              " 8,\n",
              " 0,\n",
              " 8,\n",
              " 7,\n",
              " 4,\n",
              " 7,\n",
              " 8,\n",
              " 4,\n",
              " 6,\n",
              " 9,\n",
              " 0,\n",
              " 2,\n",
              " 3,\n",
              " 0,\n",
              " 5,\n",
              " 7,\n",
              " 6,\n",
              " 2,\n",
              " 0,\n",
              " 4,\n",
              " 2,\n",
              " 6,\n",
              " 8,\n",
              " 6,\n",
              " 6,\n",
              " 9,\n",
              " 9,\n",
              " 0,\n",
              " 2,\n",
              " 4,\n",
              " 5,\n",
              " 2,\n",
              " 9,\n",
              " 3,\n",
              " 0,\n",
              " 3,\n",
              " 3,\n",
              " 8,\n",
              " 3,\n",
              " 4,\n",
              " 4,\n",
              " 6,\n",
              " 9,\n",
              " 6,\n",
              " 9,\n",
              " 5,\n",
              " 2,\n",
              " 4,\n",
              " 9,\n",
              " 1,\n",
              " 6,\n",
              " 4,\n",
              " 9,\n",
              " 6,\n",
              " 5,\n",
              " 5,\n",
              " 3,\n",
              " 4,\n",
              " 3,\n",
              " 5,\n",
              " 8,\n",
              " 9,\n",
              " 1,\n",
              " 1,\n",
              " 3,\n",
              " 7,\n",
              " 0,\n",
              " 2,\n",
              " 7,\n",
              " 6,\n",
              " 6,\n",
              " 0,\n",
              " 9,\n",
              " 8,\n",
              " 6,\n",
              " 0,\n",
              " 2,\n",
              " 0,\n",
              " 2,\n",
              " 0,\n",
              " 4,\n",
              " 7,\n",
              " 4,\n",
              " 4,\n",
              " 0,\n",
              " 1,\n",
              " 3,\n",
              " 7,\n",
              " 7,\n",
              " 6,\n",
              " 2,\n",
              " 3,\n",
              " 7,\n",
              " 8,\n",
              " 2,\n",
              " 5,\n",
              " 7,\n",
              " 5,\n",
              " 8,\n",
              " 7,\n",
              " 8,\n",
              " 4,\n",
              " 3,\n",
              " 6,\n",
              " 9,\n",
              " 3,\n",
              " 4,\n",
              " 8,\n",
              " 3,\n",
              " 0,\n",
              " 0,\n",
              " 4,\n",
              " 2,\n",
              " 2,\n",
              " 0,\n",
              " 4,\n",
              " 0,\n",
              " 4,\n",
              " 0,\n",
              " 9,\n",
              " 2,\n",
              " 9,\n",
              " 1,\n",
              " 7,\n",
              " 6,\n",
              " 1,\n",
              " 5,\n",
              " 6,\n",
              " 1,\n",
              " 5,\n",
              " 3,\n",
              " 5,\n",
              " 5,\n",
              " 6,\n",
              " 9,\n",
              " 2,\n",
              " 9,\n",
              " 0,\n",
              " 3,\n",
              " 9,\n",
              " 6,\n",
              " 9,\n",
              " 8,\n",
              " 3,\n",
              " 9,\n",
              " 8,\n",
              " 2,\n",
              " 2,\n",
              " 0,\n",
              " 4,\n",
              " 6,\n",
              " 9,\n",
              " 7,\n",
              " 3,\n",
              " 2,\n",
              " 0,\n",
              " 6,\n",
              " 6,\n",
              " 4,\n",
              " 5,\n",
              " 3,\n",
              " 6,\n",
              " 7,\n",
              " 4,\n",
              " 9,\n",
              " 2,\n",
              " 6,\n",
              " 7,\n",
              " 5,\n",
              " 5,\n",
              " 0,\n",
              " 4,\n",
              " 0,\n",
              " 3,\n",
              " 6,\n",
              " 7,\n",
              " 8,\n",
              " 7,\n",
              " 8,\n",
              " 3,\n",
              " 2,\n",
              " 8,\n",
              " 5,\n",
              " 4,\n",
              " 9,\n",
              " 5,\n",
              " 8,\n",
              " 0,\n",
              " 2,\n",
              " 3,\n",
              " 4,\n",
              " 0,\n",
              " 3,\n",
              " 8,\n",
              " 4,\n",
              " 7,\n",
              " 6,\n",
              " 5,\n",
              " 4,\n",
              " 8,\n",
              " 4,\n",
              " 1,\n",
              " 7,\n",
              " 7,\n",
              " 5,\n",
              " 3,\n",
              " 1,\n",
              " 8,\n",
              " 8,\n",
              " 8,\n",
              " 2,\n",
              " 4,\n",
              " 6,\n",
              " 8,\n",
              " 5,\n",
              " 2,\n",
              " 5,\n",
              " 7,\n",
              " 6,\n",
              " 6,\n",
              " 7,\n",
              " 4,\n",
              " 8,\n",
              " 8,\n",
              " 8,\n",
              " 9,\n",
              " 3,\n",
              " 0,\n",
              " 3,\n",
              " 5,\n",
              " 2,\n",
              " 5,\n",
              " 3,\n",
              " 1,\n",
              " 1,\n",
              " 0,\n",
              " 6,\n",
              " 7,\n",
              " 3,\n",
              " 0,\n",
              " 1,\n",
              " 6,\n",
              " 9,\n",
              " 1,\n",
              " 2,\n",
              " 7,\n",
              " 3,\n",
              " 6,\n",
              " 0,\n",
              " 1,\n",
              " 6,\n",
              " 1,\n",
              " 4,\n",
              " 8,\n",
              " 1,\n",
              " 7,\n",
              " 9,\n",
              " 1,\n",
              " 2,\n",
              " 2,\n",
              " 1,\n",
              " 8,\n",
              " 5,\n",
              " 7,\n",
              " 2,\n",
              " 1,\n",
              " 3,\n",
              " 9,\n",
              " 8,\n",
              " 2,\n",
              " 6,\n",
              " 0,\n",
              " 3,\n",
              " 0,\n",
              " 6,\n",
              " 4,\n",
              " 4,\n",
              " 5,\n",
              " 1,\n",
              " 1,\n",
              " 9,\n",
              " 3,\n",
              " 5,\n",
              " 8,\n",
              " 2,\n",
              " 9,\n",
              " 7,\n",
              " 3,\n",
              " 5,\n",
              " 1,\n",
              " 9,\n",
              " 4,\n",
              " 7,\n",
              " 4,\n",
              " 6,\n",
              " 1,\n",
              " 0,\n",
              " 1,\n",
              " 2,\n",
              " 8,\n",
              " 7,\n",
              " 6,\n",
              " 2,\n",
              " 8,\n",
              " 5,\n",
              " 3,\n",
              " 4,\n",
              " 2,\n",
              " 7,\n",
              " 1,\n",
              " 1,\n",
              " 8,\n",
              " 4,\n",
              " 2,\n",
              " 6,\n",
              " 1,\n",
              " 6,\n",
              " 2,\n",
              " 4,\n",
              " 5,\n",
              " 1,\n",
              " 2,\n",
              " 4,\n",
              " 8,\n",
              " 2,\n",
              " 7,\n",
              " 2,\n",
              " 1,\n",
              " 0,\n",
              " 4,\n",
              " 1,\n",
              " 2,\n",
              " 7,\n",
              " 9,\n",
              " 8,\n",
              " 5,\n",
              " 7,\n",
              " 5,\n",
              " 9,\n",
              " 1,\n",
              " 6,\n",
              " 8,\n",
              " 9,\n",
              " 1,\n",
              " 3,\n",
              " 7,\n",
              " 8,\n",
              " 8,\n",
              " 6,\n",
              " 1,\n",
              " 0,\n",
              " 4,\n",
              " 5,\n",
              " 3,\n",
              " 7,\n",
              " 9,\n",
              " 1,\n",
              " 7,\n",
              " 7,\n",
              " 4,\n",
              " 1,\n",
              " 4,\n",
              " 3,\n",
              " 5,\n",
              " 0,\n",
              " 0,\n",
              " 9,\n",
              " 4,\n",
              " 7,\n",
              " 2,\n",
              " 2,\n",
              " 2,\n",
              " 1,\n",
              " 7,\n",
              " 4,\n",
              " 3,\n",
              " 8,\n",
              " 3,\n",
              " 7,\n",
              " 9,\n",
              " 1,\n",
              " 5,\n",
              " 0,\n",
              " 5,\n",
              " 9,\n",
              " 5,\n",
              " 3,\n",
              " 8,\n",
              " 0,\n",
              " 0,\n",
              " 2,\n",
              " 6,\n",
              " 3,\n",
              " 3,\n",
              " 1,\n",
              " 6,\n",
              " 9,\n",
              " 0,\n",
              " 2,\n",
              " 4,\n",
              " 2,\n",
              " 3,\n",
              " 2,\n",
              " 9,\n",
              " 0,\n",
              " 9,\n",
              " 9,\n",
              " 6,\n",
              " 2,\n",
              " 2,\n",
              " 7,\n",
              " 7,\n",
              " 7,\n",
              " 5,\n",
              " 0,\n",
              " 9,\n",
              " 4,\n",
              " 8,\n",
              " 8,\n",
              " 3,\n",
              " 4,\n",
              " 5,\n",
              " 4,\n",
              " 7,\n",
              " 2,\n",
              " 5,\n",
              " 4,\n",
              " 3,\n",
              " 9,\n",
              " 6,\n",
              " 4,\n",
              " 4,\n",
              " 3,\n",
              " 9,\n",
              " 2,\n",
              " 5,\n",
              " 9,\n",
              " 8,\n",
              " 2,\n",
              " 2,\n",
              " 6,\n",
              " 0,\n",
              " 1,\n",
              " 5,\n",
              " 3,\n",
              " 2,\n",
              " 9,\n",
              " 8,\n",
              " 4,\n",
              " 7,\n",
              " 5,\n",
              " 4,\n",
              " 6,\n",
              " 9,\n",
              " 9,\n",
              " 7,\n",
              " 4,\n",
              " 3,\n",
              " 6,\n",
              " 2,\n",
              " 9,\n",
              " 5,\n",
              " 9,\n",
              " 6,\n",
              " 3,\n",
              " 2,\n",
              " 3,\n",
              " 5,\n",
              " 5,\n",
              " 0,\n",
              " 3,\n",
              " 2,\n",
              " 0,\n",
              " 5,\n",
              " 4,\n",
              " 7,\n",
              " 0,\n",
              " 8,\n",
              " 0,\n",
              " 1,\n",
              " 1,\n",
              " 6,\n",
              " 9,\n",
              " 7,\n",
              " 8,\n",
              " 4,\n",
              " ...]"
            ]
          },
          "metadata": {},
          "execution_count": 24
        }
      ]
    },
    {
      "cell_type": "code",
      "source": [
        "#calcule de l'accuracy pour cette exemple\n",
        "r=list(labels_test_batch)\n",
        "ac=0\n",
        "for i in range(labels_test_batch.shape[0]):\n",
        "  if(r[i]==valeur_predites[i]):\n",
        "    ac+=1\n",
        "  \n",
        "print(ac/len(r))"
      ],
      "metadata": {
        "colab": {
          "base_uri": "https://localhost:8080/"
        },
        "id": "RQP7RUEpFqXH",
        "outputId": "128d892e-6dcc-48c4-fcb8-b62653797be0"
      },
      "id": "RQP7RUEpFqXH",
      "execution_count": null,
      "outputs": [
        {
          "output_type": "stream",
          "name": "stdout",
          "text": [
            "0.1065\n"
          ]
        }
      ]
    },
    {
      "cell_type": "markdown",
      "source": [
        "On remarque que l'accuracy est faible ne dépasse pas 10%"
      ],
      "metadata": {
        "id": "R4bzuIABFtze"
      },
      "id": "R4bzuIABFtze"
    },
    {
      "cell_type": "markdown",
      "source": [
        "Création de la fonction evaluate_knn qui prend comme paramètres data_train,label_train,data_test,label_test,k et qui retourne l'accuracy"
      ],
      "metadata": {
        "id": "uw-0toJ0FxRP"
      },
      "id": "uw-0toJ0FxRP"
    },
    {
      "cell_type": "code",
      "source": [
        "def evaluate_knn(data_train,label_train,data_test,label_test,k):\n",
        "  dist=dist_matrix(data_train,data_test)\n",
        "  knn_predict(dist,label_train,k)\n",
        "  r=list(label_test)\n",
        "  ac=0\n",
        "  for i in range(label_test.shape[0]):\n",
        "    if(r[i]==valeur_predites[i]):\n",
        "      ac+=1\n",
        "  return(ac/len(r))"
      ],
      "metadata": {
        "id": "wiPqrZ7xFysP"
      },
      "id": "wiPqrZ7xFysP",
      "execution_count": null,
      "outputs": []
    },
    {
      "cell_type": "markdown",
      "source": [
        "On va appliquer la fonction evaluaate knn sur notre batch , puis on va créer une liste qui contient la variantion d'accuracy en fonction de k"
      ],
      "metadata": {
        "id": "aQ8hYq2sF8Yd"
      },
      "id": "aQ8hYq2sF8Yd"
    },
    {
      "cell_type": "code",
      "source": [
        "all_eval=[]\n",
        "for i in range(10,20,1):\n",
        "  eval=evaluate_knn(data_train_batch,labels_train_batch,data_test,labels_test_batch,i)\n",
        "  all_eval.append(eval)"
      ],
      "metadata": {
        "id": "7jpYZt9eF9zw"
      },
      "id": "7jpYZt9eF9zw",
      "execution_count": null,
      "outputs": []
    },
    {
      "cell_type": "code",
      "source": [
        "import matplotlib.pyplot as plt\n",
        "plt.plot(all_eval)"
      ],
      "metadata": {
        "id": "gxSIeYzaGBLV"
      },
      "id": "gxSIeYzaGBLV",
      "execution_count": null,
      "outputs": []
    },
    {
      "cell_type": "markdown",
      "source": [
        "On va utiliser une deuxième méthode qui est basé sur la definition de modèle dans une classe"
      ],
      "metadata": {
        "id": "vO8kZzGLGGmJ"
      },
      "id": "vO8kZzGLGGmJ"
    },
    {
      "cell_type": "code",
      "execution_count": null,
      "id": "6e52d9b4",
      "metadata": {
        "id": "6e52d9b4"
      },
      "outputs": [],
      "source": [
        "class KNN_model(object):\n",
        "    #definir le constructeur de la classe\n",
        "    def __init__(self):\n",
        "        pass\n",
        "    # définir l'entranement de la classe \n",
        "    def train(self, X, y):\n",
        "        self.X_train = X\n",
        "        self.y_train = y\n",
        "    def predict(self, X, k=1, num_loops=0):\n",
        "        if num_loops == 0:\n",
        "            dists = self.compute_distances(X)\n",
        "        else:\n",
        "            raise ValueError('Valeur invalide %d pour num_loops' % num_loops)\n",
        "        return self.predict_labels(dists, k=k)\n",
        "    #calcule de la distance euclidienne\n",
        "    def compute_distances(self, X):\n",
        "        num_test = X.shape[0]\n",
        "        num_train = self.X_train.shape[0]\n",
        "        dists = np.zeros((num_test, num_train)) \n",
        "        dists = np.sqrt(np.sum(np.square(self.X_train), axis=1) + np.sum(np.square(X), axis=1)[:, np.newaxis] - 2 * np.dot(X, self.X_train.T))\n",
        "        pass\n",
        "        return dists\n",
        "    #prédiction \n",
        "    def predict_labels(self, dists, k=1):\n",
        "        num_test = dists.shape[0]\n",
        "        y_pred = np.zeros(num_test)\n",
        "        for i in range(num_test):\n",
        "            closest_y = []\n",
        "            sorted_dist = np.argsort(dists[i])\n",
        "            closest_y = list(self.y_train[sorted_dist[0:k]])\n",
        "            pass\n",
        "            y_pred[i]= (np.argmax(np.bincount(closest_y)))\n",
        "            pass\n",
        "        return y_pred"
      ]
    },
    {
      "cell_type": "raw",
      "id": "d16ca916",
      "metadata": {
        "id": "d16ca916"
      },
      "source": [
        "6- Le calcul de l'accuracy de notre modèle KNN sur les données test avec un k=5"
      ]
    },
    {
      "cell_type": "code",
      "execution_count": null,
      "id": "1d5cebd0",
      "metadata": {
        "id": "1d5cebd0",
        "outputId": "92e55426-bb6c-4ff5-914c-a697f5658e17"
      },
      "outputs": [
        {
          "name": "stdout",
          "output_type": "stream",
          "text": [
            "On a 3996 / 12000 correct => accuracy: 0.333000\n"
          ]
        }
      ],
      "source": [
        "num_test= labels_test.shape[0]\n",
        "classifier = KNN_model()\n",
        "classifier.train(data_train, labels_train)\n",
        "dists= classifier.compute_distances(data_test)\n",
        "y_test_pred = classifier.predict_labels(dists, k=5)\n",
        "num_correct = np.sum(y_test_pred == labels_test)\n",
        "accuracy = float(num_correct) / num_test\n",
        "print('On a %d / %d correct => accuracy: %f' % (num_correct, num_test, accuracy))"
      ]
    },
    {
      "cell_type": "code",
      "execution_count": null,
      "id": "df2a1c4e",
      "metadata": {
        "id": "df2a1c4e",
        "outputId": "3135bfbe-b61a-47d4-f53d-c1b000ce6b71"
      },
      "outputs": [
        {
          "name": "stdout",
          "output_type": "stream",
          "text": [
            "Train data shape:  (54000, 3072)\n",
            "Train labels shape:  (54000,)\n",
            "Test data shape:  (6000, 3072)\n",
            "Test labels shape:  (6000,)\n"
          ]
        }
      ],
      "source": [
        "\n",
        "print('Train data shape: ', data_train.shape)\n",
        "print('Train labels shape: ', labels_train.shape)\n",
        "print('Test data shape: ', data_test.shape)\n",
        "print('Test labels shape: ', labels_test.shape)"
      ]
    },
    {
      "cell_type": "raw",
      "id": "55ccac7e",
      "metadata": {
        "id": "55ccac7e"
      },
      "source": [
        "8- Calculer l'accuracy pour chaque valeurs de k dans un intervalle de 1 à 20."
      ]
    },
    {
      "cell_type": "code",
      "execution_count": null,
      "id": "8591c890",
      "metadata": {
        "id": "8591c890",
        "outputId": "bd4087bc-4899-4f85-87c3-6244ba8e6138"
      },
      "outputs": [
        {
          "name": "stdout",
          "output_type": "stream",
          "text": [
            "Ecrire notre accuracy pour différentes valeurs de k:\n",
            "\n",
            "k = 1, accuracy = 0.361500\n",
            "k = 2, accuracy = 0.320500\n",
            "k = 3, accuracy = 0.339333\n",
            "k = 4, accuracy = 0.339167\n",
            "k = 5, accuracy = 0.339000\n",
            "k = 6, accuracy = 0.338833\n",
            "k = 7, accuracy = 0.339833\n",
            "k = 8, accuracy = 0.338167\n",
            "k = 9, accuracy = 0.336333\n",
            "k = 10, accuracy = 0.332000\n",
            "k = 11, accuracy = 0.329333\n",
            "k = 12, accuracy = 0.330667\n",
            "k = 14, accuracy = 0.330667\n",
            "k = 15, accuracy = 0.330333\n",
            "k = 16, accuracy = 0.328000\n",
            "k = 17, accuracy = 0.326500\n",
            "k = 18, accuracy = 0.326667\n",
            "k = 19, accuracy = 0.325333\n",
            "k = 20, accuracy = 0.324000\n"
          ]
        }
      ],
      "source": [
        "k_choices = [1, 2, 3, 4, 5, 6, 7, 8, 9, 10, 11, 12, 13, 14, 15, 16, 17, 18, 19, 20]\n",
        "k_to_accuracies = {}\n",
        "for k in k_choices:\n",
        "    num_test=y_test.shape[0] \n",
        "    k_to_accuracies[k] = []\n",
        "    X_test = data_test\n",
        "    y_test = labels_test\n",
        "    X_train = data_train\n",
        "    y_train = labels_train\n",
        "    classifier = KNN_model()\n",
        "    classifier.train(X_train, y_train)\n",
        "    dists = classifier.compute_distances(X_test)\n",
        "    y_test_pred = classifier.predict_labels(dists, k)\n",
        "    num_correct = np.sum(y_test_pred == y_test)\n",
        "    accuracy = float(num_correct) / num_test\n",
        "    k_to_accuracies[k].append(accuracy)\n",
        "print(\"Ecrire notre accuracy pour différentes valeurs de k:\")\n",
        "print()\n",
        "for k in sorted(k_to_accuracies):\n",
        "    for accuracy in k_to_accuracies[k]:\n",
        "        print('k = %d, accuracy = %f' % (k, accuracy))"
      ]
    },
    {
      "cell_type": "raw",
      "id": "52c7756c",
      "metadata": {
        "id": "52c7756c"
      },
      "source": [
        "9- Tracer l'évolution de l'accuracy en fonction des k."
      ]
    },
    {
      "cell_type": "code",
      "execution_count": null,
      "id": "50c7f832",
      "metadata": {
        "id": "50c7f832",
        "outputId": "8bfe7093-1ad2-4b8e-ff12-02ef86926b0d"
      },
      "outputs": [
        {
          "data": {
            "image/png": "[encoded data removed]",
            "text/plain": [
              "<Figure size 432x288 with 1 Axes>"
            ]
          },
          "metadata": {
            "needs_background": "light"
          },
          "output_type": "display_data"
        },
        {
          "data": {
            "text/plain": [
              "<function matplotlib.pyplot.close(fig=None)>"
            ]
          },
          "execution_count": 24,
          "metadata": {},
          "output_type": "execute_result"
        },
        {
          "data": {
            "text/plain": [
              "<Figure size 432x288 with 0 Axes>"
            ]
          },
          "metadata": {},
          "output_type": "display_data"
        }
      ],
      "source": [
        "import matplotlib.pyplot as plt\n",
        "for k in k_choices:\n",
        "    accuracies = k_to_accuracies[k]\n",
        "    plt.scatter([k] * len(accuracies), accuracies)\n",
        "\n",
        "plt.title('Evolution de l accuracy en fonction de k')\n",
        "plt.xlabel('k')\n",
        "plt.ylabel('Accuracy')\n",
        "plt.show()\n",
        "plt.savefig('knn.png')\n",
        "plt.close "
      ]
    }
  ],
  "metadata": {
    "kernelspec": {
      "display_name": "Python 3 (ipykernel)",
      "language": "python",
      "name": "python3"
    },
    "language_info": {
      "codemirror_mode": {
        "name": "ipython",
        "version": 3
      },
      "file_extension": ".py",
      "mimetype": "text/x-python",
      "name": "python",
      "nbconvert_exporter": "python",
      "pygments_lexer": "ipython3",
      "version": "3.9.12"
    },
    "colab": {
      "provenance": [],
      "collapsed_sections": []
    }
  },
  "nbformat": 4,
  "nbformat_minor": 5
}